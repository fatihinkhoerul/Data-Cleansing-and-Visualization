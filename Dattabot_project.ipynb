{
 "cells": [
  {
   "cell_type": "code",
   "execution_count": 1,
   "id": "b1bcd5f5",
   "metadata": {},
   "outputs": [],
   "source": [
    "import pandas as pd\n",
    "import numpy as np"
   ]
  },
  {
   "cell_type": "markdown",
   "id": "e0d35ea5",
   "metadata": {},
   "source": [
    "a. From given dataset, clean the table with these criteria:\n",
    "- Employee_ID is unique, please make sure this criterion is fulfilled\n",
    "- Create a standard for name, gender, edu_lvl, job category, age, score, number phone,\n",
    "and domicile column\n",
    "- You can use your creativity to improve the table to be cleaner.\n",
    "- Use python language. Please send us the script. You can use Jupyter\n",
    "Notebook, or any IDE you comfortable with."
   ]
  },
  {
   "cell_type": "code",
   "execution_count": 2,
   "id": "89833dc8",
   "metadata": {},
   "outputs": [],
   "source": [
    "dataset1 = pd.read_excel(\"D:\\Kerja\\Dattabot\\dataset_jul_2021.xlsx\",'dataset1')"
   ]
  },
  {
   "cell_type": "code",
   "execution_count": 3,
   "id": "aa2913b5",
   "metadata": {},
   "outputs": [],
   "source": [
    "dataset2 = pd.read_excel(\"D:\\Kerja\\Dattabot\\dataset_jul_2021.xlsx\",'dataset2')"
   ]
  },
  {
   "cell_type": "code",
   "execution_count": 4,
   "id": "ecd6f106",
   "metadata": {},
   "outputs": [],
   "source": [
    "dataset3 = pd.read_excel(\"D:\\Kerja\\Dattabot\\dataset_jul_2021.xlsx\",'dataset3')"
   ]
  },
  {
   "cell_type": "code",
   "execution_count": 5,
   "id": "97665cf8",
   "metadata": {},
   "outputs": [],
   "source": [
    "dataset = pd.concat([dataset1,dataset2,dataset3], ignore_index=True)"
   ]
  },
  {
   "cell_type": "code",
   "execution_count": 6,
   "id": "143c398e",
   "metadata": {},
   "outputs": [
    {
     "name": "stdout",
     "output_type": "stream",
     "text": [
      "<class 'pandas.core.frame.DataFrame'>\n",
      "RangeIndex: 930 entries, 0 to 929\n",
      "Data columns (total 9 columns):\n",
      " #   Column             Non-Null Count  Dtype \n",
      "---  ------             --------------  ----- \n",
      " 0   Employee_ID        930 non-null    int64 \n",
      " 1   Name               930 non-null    object\n",
      " 2   GENDER             930 non-null    object\n",
      " 3   EDU_LVL            930 non-null    object\n",
      " 4   JOB_CATEGORY       930 non-null    object\n",
      " 5   AGE                930 non-null    int64 \n",
      " 6   Score              920 non-null    object\n",
      " 7   Phone Number       930 non-null    int64 \n",
      " 8   Domicile_Province  930 non-null    object\n",
      "dtypes: int64(3), object(6)\n",
      "memory usage: 65.5+ KB\n"
     ]
    }
   ],
   "source": [
    "dataset.info()"
   ]
  },
  {
   "cell_type": "code",
   "execution_count": 7,
   "id": "6767c8a5",
   "metadata": {},
   "outputs": [],
   "source": [
    "data = dataset.rename(columns={\"Employee_ID\":\"Employee_Id\", \"GENDER\":\"Gender\", \"EDU_LVL\":\"Edu_Level\", \"JOB_CATEGORY\":\"Job_Category\", \"AGE\":\"Age\", \"Phone Number\":\"Phone_Number\"})"
   ]
  },
  {
   "cell_type": "code",
   "execution_count": 8,
   "id": "5c24be63",
   "metadata": {},
   "outputs": [
    {
     "data": {
      "text/html": [
       "<div>\n",
       "<style scoped>\n",
       "    .dataframe tbody tr th:only-of-type {\n",
       "        vertical-align: middle;\n",
       "    }\n",
       "\n",
       "    .dataframe tbody tr th {\n",
       "        vertical-align: top;\n",
       "    }\n",
       "\n",
       "    .dataframe thead th {\n",
       "        text-align: right;\n",
       "    }\n",
       "</style>\n",
       "<table border=\"1\" class=\"dataframe\">\n",
       "  <thead>\n",
       "    <tr style=\"text-align: right;\">\n",
       "      <th></th>\n",
       "      <th>Employee_Id</th>\n",
       "      <th>Name</th>\n",
       "      <th>Gender</th>\n",
       "      <th>Edu_Level</th>\n",
       "      <th>Job_Category</th>\n",
       "      <th>Age</th>\n",
       "      <th>Score</th>\n",
       "      <th>Phone_Number</th>\n",
       "      <th>Domicile_Province</th>\n",
       "    </tr>\n",
       "  </thead>\n",
       "  <tbody>\n",
       "    <tr>\n",
       "      <th>0</th>\n",
       "      <td>1</td>\n",
       "      <td>Claire Gute</td>\n",
       "      <td>M</td>\n",
       "      <td>S1</td>\n",
       "      <td>Functional Expert Band 2</td>\n",
       "      <td>37</td>\n",
       "      <td>3.98</td>\n",
       "      <td>628315242420</td>\n",
       "      <td>DKI Jakarta</td>\n",
       "    </tr>\n",
       "    <tr>\n",
       "      <th>1</th>\n",
       "      <td>2</td>\n",
       "      <td>Darrin Van Huff</td>\n",
       "      <td>M</td>\n",
       "      <td>S2</td>\n",
       "      <td>Manager</td>\n",
       "      <td>42</td>\n",
       "      <td>4.15</td>\n",
       "      <td>85246790036</td>\n",
       "      <td>Jakarta</td>\n",
       "    </tr>\n",
       "    <tr>\n",
       "      <th>2</th>\n",
       "      <td>3</td>\n",
       "      <td>Sean O'Donnell</td>\n",
       "      <td>Male</td>\n",
       "      <td>SLTA</td>\n",
       "      <td>Staff</td>\n",
       "      <td>48</td>\n",
       "      <td>3.98</td>\n",
       "      <td>85246833311</td>\n",
       "      <td>JKT</td>\n",
       "    </tr>\n",
       "    <tr>\n",
       "      <th>3</th>\n",
       "      <td>4</td>\n",
       "      <td>Brosina Hoffman</td>\n",
       "      <td>M</td>\n",
       "      <td>S2</td>\n",
       "      <td>Manager</td>\n",
       "      <td>50</td>\n",
       "      <td>3.23</td>\n",
       "      <td>85246990032</td>\n",
       "      <td>West Java</td>\n",
       "    </tr>\n",
       "    <tr>\n",
       "      <th>4</th>\n",
       "      <td>5</td>\n",
       "      <td>Andrew Allen</td>\n",
       "      <td>F</td>\n",
       "      <td>S1</td>\n",
       "      <td>Trainee</td>\n",
       "      <td>20</td>\n",
       "      <td>-</td>\n",
       "      <td>85247028027</td>\n",
       "      <td>Jawa Barat</td>\n",
       "    </tr>\n",
       "  </tbody>\n",
       "</table>\n",
       "</div>"
      ],
      "text/plain": [
       "   Employee_Id             Name Gender Edu_Level              Job_Category  \\\n",
       "0            1      Claire Gute      M        S1  Functional Expert Band 2   \n",
       "1            2  Darrin Van Huff      M        S2                   Manager   \n",
       "2            3   Sean O'Donnell   Male      SLTA                     Staff   \n",
       "3            4  Brosina Hoffman      M        S2                   Manager   \n",
       "4            5     Andrew Allen      F        S1                   Trainee   \n",
       "\n",
       "   Age  Score  Phone_Number Domicile_Province  \n",
       "0   37   3.98  628315242420       DKI Jakarta  \n",
       "1   42   4.15   85246790036           Jakarta  \n",
       "2   48   3.98   85246833311               JKT  \n",
       "3   50   3.23   85246990032         West Java  \n",
       "4   20   -      85247028027        Jawa Barat  "
      ]
     },
     "execution_count": 8,
     "metadata": {},
     "output_type": "execute_result"
    }
   ],
   "source": [
    "data.head()"
   ]
  },
  {
   "cell_type": "code",
   "execution_count": 9,
   "id": "abcd87e1",
   "metadata": {},
   "outputs": [],
   "source": [
    "for i in range(len(data)):\n",
    "    if data.loc[i,'Score']==' -   ':\n",
    "        data.loc[i,'Score']='0'"
   ]
  },
  {
   "cell_type": "code",
   "execution_count": 10,
   "id": "eaac7dad",
   "metadata": {},
   "outputs": [
    {
     "data": {
      "text/plain": [
       "array([3.98, 4.15, 3.23, '0', 4.66, 4.71, 4.05, 4.86, 3.76, 3.42, 4.07,\n",
       "       4.29, 4, 3.83, 4.26, 3.9, 4.14, 3.96, 4.02, 3.36, 3.81, 4.04, 5,\n",
       "       3.82, 3.05, 4.55, 3.87, 3.68, 3.51, 3.92, 4.52, 4.27, 3.33, 4.31,\n",
       "       4.44, 3.71, nan, 4.22, 3.74, 3.89, 4.4, 3.93, 4.54, 4.13, 4.03,\n",
       "       4.33, 3.73, 3.55, 4.08, 4.11, 3.86, 3.75, 3.63, 3.62, 3.31, 4.12,\n",
       "       3.85, 3.34, 4.06, 3.01, 3.91, 4.2, 3.69, 4.37, 3.14, 3.58, 4.7,\n",
       "       4.34, 4.6, 4.23, 3.53, 3.6, 3.97, 4.21, 3.44, 3.56, 4.01, 2.98,\n",
       "       4.43, 3.67, 4.41, 4.81, 4.64, 4.35, 4.73, 3.52, 3.07, 4.38, 4.53,\n",
       "       4.49, 3.77, 3.72, 2.35, 3.15, 2.67, 3.41, 4.19, 4.1, 3.79, 4.92,\n",
       "       3.28, 4.39, 3.18, 3.66, 3.43, 3.61, 4.56, 4.67, 4.16, 3.02, 4.62,\n",
       "       4.99, 4.69, 4.32, 2.95, 4.51, 3.99, 4.76, 3.25, 2.93, 4.17, 2.63,\n",
       "       3.8, 3.2, 4.09, 3.5, 3.3, 3.88, 4.96, 4.74, 4.18, 3.78, 3.29, 3.48,\n",
       "       3.54, 3.94, 4.25, 3.84, 3.35, 3.49, 4.87, 4.47, 4.61, 3.47, 3.7,\n",
       "       3.11, 3.22, 3.03, 3.27, 3.57, 3.12, 3.17, 3.39, 4.36, 4.42, 2.88,\n",
       "       4.46, 4.68, 4.82, 4.5, 2.75, 3.08, 3.46, 4.45, 2.9, 2.89, 4.84,\n",
       "       4.24, 2.91, 4.59, 2.68, 3.45, 4.3, 3.38, 3.95, 3.13, 4.77, 4.57,\n",
       "       3.24, 4.75, 3.4, 2.84, 3.64, 2.87, 3.26, 2.45, 3.06, 3.21, 4.28,\n",
       "       4.72, 4.88, 3.65, 3.04, 4.58, 4.48, 4.8, 2.92, 3.1, 4.9, 4.85,\n",
       "       2.61], dtype=object)"
      ]
     },
     "execution_count": 10,
     "metadata": {},
     "output_type": "execute_result"
    }
   ],
   "source": [
    "data.Score.unique()"
   ]
  },
  {
   "cell_type": "code",
   "execution_count": 11,
   "id": "22c86df3",
   "metadata": {},
   "outputs": [],
   "source": [
    "data['Score']=data['Score'].astype(np.float64)"
   ]
  },
  {
   "cell_type": "code",
   "execution_count": 12,
   "id": "84e8ce8d",
   "metadata": {},
   "outputs": [
    {
     "name": "stdout",
     "output_type": "stream",
     "text": [
      "<class 'pandas.core.frame.DataFrame'>\n",
      "RangeIndex: 930 entries, 0 to 929\n",
      "Data columns (total 9 columns):\n",
      " #   Column             Non-Null Count  Dtype  \n",
      "---  ------             --------------  -----  \n",
      " 0   Employee_Id        930 non-null    int64  \n",
      " 1   Name               930 non-null    object \n",
      " 2   Gender             930 non-null    object \n",
      " 3   Edu_Level          930 non-null    object \n",
      " 4   Job_Category       930 non-null    object \n",
      " 5   Age                930 non-null    int64  \n",
      " 6   Score              920 non-null    float64\n",
      " 7   Phone_Number       930 non-null    int64  \n",
      " 8   Domicile_Province  930 non-null    object \n",
      "dtypes: float64(1), int64(3), object(5)\n",
      "memory usage: 65.5+ KB\n"
     ]
    }
   ],
   "source": [
    "data.info()"
   ]
  },
  {
   "cell_type": "code",
   "execution_count": 13,
   "id": "60a5388d",
   "metadata": {},
   "outputs": [
    {
     "data": {
      "text/plain": [
       "array([3.98, 4.15, 3.23, 0.  , 4.66, 4.71, 4.05, 4.86, 3.76, 3.42, 4.07,\n",
       "       4.29, 4.  , 3.83, 4.26, 3.9 , 4.14, 3.96, 4.02, 3.36, 3.81, 4.04,\n",
       "       5.  , 3.82, 3.05, 4.55, 3.87, 3.68, 3.51, 3.92, 4.52, 4.27, 3.33,\n",
       "       4.31, 4.44, 3.71,  nan, 4.22, 3.74, 3.89, 4.4 , 3.93, 4.54, 4.13,\n",
       "       4.03, 4.33, 3.73, 3.55, 4.08, 4.11, 3.86, 3.75, 3.63, 3.62, 3.31,\n",
       "       4.12, 3.85, 3.34, 4.06, 3.01, 3.91, 4.2 , 3.69, 4.37, 3.14, 3.58,\n",
       "       4.7 , 4.34, 4.6 , 4.23, 3.53, 3.6 , 3.97, 4.21, 3.44, 3.56, 4.01,\n",
       "       2.98, 4.43, 3.67, 4.41, 4.81, 4.64, 4.35, 4.73, 3.52, 3.07, 4.38,\n",
       "       4.53, 4.49, 3.77, 3.72, 2.35, 3.15, 2.67, 3.41, 4.19, 4.1 , 3.79,\n",
       "       4.92, 3.28, 4.39, 3.18, 3.66, 3.43, 3.61, 4.56, 4.67, 4.16, 3.02,\n",
       "       4.62, 4.99, 4.69, 4.32, 2.95, 4.51, 3.99, 4.76, 3.25, 2.93, 4.17,\n",
       "       2.63, 3.8 , 3.2 , 4.09, 3.5 , 3.3 , 3.88, 4.96, 4.74, 4.18, 3.78,\n",
       "       3.29, 3.48, 3.54, 3.94, 4.25, 3.84, 3.35, 3.49, 4.87, 4.47, 4.61,\n",
       "       3.47, 3.7 , 3.11, 3.22, 3.03, 3.27, 3.57, 3.12, 3.17, 3.39, 4.36,\n",
       "       4.42, 2.88, 4.46, 4.68, 4.82, 4.5 , 2.75, 3.08, 3.46, 4.45, 2.9 ,\n",
       "       2.89, 4.84, 4.24, 2.91, 4.59, 2.68, 3.45, 4.3 , 3.38, 3.95, 3.13,\n",
       "       4.77, 4.57, 3.24, 4.75, 3.4 , 2.84, 3.64, 2.87, 3.26, 2.45, 3.06,\n",
       "       3.21, 4.28, 4.72, 4.88, 3.65, 3.04, 4.58, 4.48, 4.8 , 2.92, 3.1 ,\n",
       "       4.9 , 4.85, 2.61])"
      ]
     },
     "execution_count": 13,
     "metadata": {},
     "output_type": "execute_result"
    }
   ],
   "source": [
    "data.Score.unique()"
   ]
  },
  {
   "cell_type": "code",
   "execution_count": 14,
   "id": "8408a976",
   "metadata": {},
   "outputs": [],
   "source": [
    "data['Score']=data['Score'].replace(np.nan,0)"
   ]
  },
  {
   "cell_type": "code",
   "execution_count": 15,
   "id": "f522fa97",
   "metadata": {},
   "outputs": [
    {
     "name": "stdout",
     "output_type": "stream",
     "text": [
      "<class 'pandas.core.frame.DataFrame'>\n",
      "RangeIndex: 930 entries, 0 to 929\n",
      "Data columns (total 9 columns):\n",
      " #   Column             Non-Null Count  Dtype  \n",
      "---  ------             --------------  -----  \n",
      " 0   Employee_Id        930 non-null    int64  \n",
      " 1   Name               930 non-null    object \n",
      " 2   Gender             930 non-null    object \n",
      " 3   Edu_Level          930 non-null    object \n",
      " 4   Job_Category       930 non-null    object \n",
      " 5   Age                930 non-null    int64  \n",
      " 6   Score              930 non-null    float64\n",
      " 7   Phone_Number       930 non-null    int64  \n",
      " 8   Domicile_Province  930 non-null    object \n",
      "dtypes: float64(1), int64(3), object(5)\n",
      "memory usage: 65.5+ KB\n"
     ]
    }
   ],
   "source": [
    "data.info()"
   ]
  },
  {
   "cell_type": "code",
   "execution_count": 16,
   "id": "695164ee",
   "metadata": {},
   "outputs": [
    {
     "data": {
      "text/plain": [
       "array([3.98, 4.15, 3.23, 0.  , 4.66, 4.71, 4.05, 4.86, 3.76, 3.42, 4.07,\n",
       "       4.29, 4.  , 3.83, 4.26, 3.9 , 4.14, 3.96, 4.02, 3.36, 3.81, 4.04,\n",
       "       5.  , 3.82, 3.05, 4.55, 3.87, 3.68, 3.51, 3.92, 4.52, 4.27, 3.33,\n",
       "       4.31, 4.44, 3.71, 4.22, 3.74, 3.89, 4.4 , 3.93, 4.54, 4.13, 4.03,\n",
       "       4.33, 3.73, 3.55, 4.08, 4.11, 3.86, 3.75, 3.63, 3.62, 3.31, 4.12,\n",
       "       3.85, 3.34, 4.06, 3.01, 3.91, 4.2 , 3.69, 4.37, 3.14, 3.58, 4.7 ,\n",
       "       4.34, 4.6 , 4.23, 3.53, 3.6 , 3.97, 4.21, 3.44, 3.56, 4.01, 2.98,\n",
       "       4.43, 3.67, 4.41, 4.81, 4.64, 4.35, 4.73, 3.52, 3.07, 4.38, 4.53,\n",
       "       4.49, 3.77, 3.72, 2.35, 3.15, 2.67, 3.41, 4.19, 4.1 , 3.79, 4.92,\n",
       "       3.28, 4.39, 3.18, 3.66, 3.43, 3.61, 4.56, 4.67, 4.16, 3.02, 4.62,\n",
       "       4.99, 4.69, 4.32, 2.95, 4.51, 3.99, 4.76, 3.25, 2.93, 4.17, 2.63,\n",
       "       3.8 , 3.2 , 4.09, 3.5 , 3.3 , 3.88, 4.96, 4.74, 4.18, 3.78, 3.29,\n",
       "       3.48, 3.54, 3.94, 4.25, 3.84, 3.35, 3.49, 4.87, 4.47, 4.61, 3.47,\n",
       "       3.7 , 3.11, 3.22, 3.03, 3.27, 3.57, 3.12, 3.17, 3.39, 4.36, 4.42,\n",
       "       2.88, 4.46, 4.68, 4.82, 4.5 , 2.75, 3.08, 3.46, 4.45, 2.9 , 2.89,\n",
       "       4.84, 4.24, 2.91, 4.59, 2.68, 3.45, 4.3 , 3.38, 3.95, 3.13, 4.77,\n",
       "       4.57, 3.24, 4.75, 3.4 , 2.84, 3.64, 2.87, 3.26, 2.45, 3.06, 3.21,\n",
       "       4.28, 4.72, 4.88, 3.65, 3.04, 4.58, 4.48, 4.8 , 2.92, 3.1 , 4.9 ,\n",
       "       4.85, 2.61])"
      ]
     },
     "execution_count": 16,
     "metadata": {},
     "output_type": "execute_result"
    }
   ],
   "source": [
    "data.Score.unique()"
   ]
  },
  {
   "cell_type": "code",
   "execution_count": 17,
   "id": "fffe86c4",
   "metadata": {},
   "outputs": [
    {
     "data": {
      "text/plain": [
       "0      False\n",
       "1      False\n",
       "2      False\n",
       "3      False\n",
       "4      False\n",
       "       ...  \n",
       "925    False\n",
       "926    False\n",
       "927    False\n",
       "928    False\n",
       "929    False\n",
       "Length: 930, dtype: bool"
      ]
     },
     "execution_count": 17,
     "metadata": {},
     "output_type": "execute_result"
    }
   ],
   "source": [
    "data.duplicated(subset=['Employee_Id'])"
   ]
  },
  {
   "cell_type": "code",
   "execution_count": 18,
   "id": "017a5a1e",
   "metadata": {},
   "outputs": [
    {
     "data": {
      "text/plain": [
       "array(['Claire Gute', 'Darrin Van Huff', \"Sean O'Donnell\",\n",
       "       'Brosina Hoffman', 'Andrew Allen', 'Irene Maddox', 'Harold Pawlan',\n",
       "       'Pete Kriz', 'Alejandro Grove', 'Zuschuss Donatelli', 'Ken Black',\n",
       "       'Sandra Flanagan', 'Emily Burns', 'Eric Hoffmann',\n",
       "       'Tracy Blumstein', 'Matt Abelman%', 'Gene Hale,,', 'Steve Nguyen!',\n",
       "       'Linda Cazamias', 'Ruben Ausman', 'Erin Smith', 'Odella Nelson',\n",
       "       \"Patrick O'Donnell\", 'Lena Hernandez', 'Darren Powers',\n",
       "       'Janet Molinari', 'Ted Butterfield', 'Kunst Miller',\n",
       "       'Paul Stevenson', 'Brendan Sweed', 'Karen Daniels',\n",
       "       'Henry MacAllister', 'Joel Eaton', 'Ken Brennan',\n",
       "       'Stewart Carmichael', 'Duane Noonan', 'Julie Creighton',\n",
       "       'Christopher Schild', 'Paul Gonzalez', 'Gary Mitchum', 'Jim Sink',\n",
       "       'Karl Braun', 'Roger Barcio', 'Parhena Norris', 'Katherine Ducich',\n",
       "       'Elpida Rittenbach', 'Rick Bensley', 'Gary Zandusky',\n",
       "       'Lena Cacioppo', 'Janet Martin', 'Pete Armstrong', 'Cynthia Voltz',\n",
       "       'Clay Ludtke', 'Ryan Crowe', 'Dave Kipp', 'Greg Guthrie',\n",
       "       'Steven Cartwright', 'Alan Dominguez', 'Philip Fox',\n",
       "       'Troy Staebel', 'Lindsay Shagiari', 'Dorothy Wardle',\n",
       "       'Lena Creighton', 'Jonathan Doherty', 'Sally Hughsby',\n",
       "       'Sandra Glassco', 'Helen Andreada', 'Maureen Gastineau',\n",
       "       'Justin Ellison', 'Tamara Willingham', 'Stephanie Phelps',\n",
       "       'Neil-Knudson', 'Dave Brooks', 'Nora Paige', 'Ted Trevino',\n",
       "       'Eric Murdock', 'Ruben Dartt', 'Max Jones', 'Becky Martin',\n",
       "       'Chad Sievert', 'Jennifer Braxton', 'Shirley Jackson', 'Jim Kriz',\n",
       "       'David Kendrick', 'Robert Marley', 'Sally Knutson', 'Frank Merwin',\n",
       "       'Alice McCarthy', 'Mark Packer', 'Mary Zewe', 'Cassandra Brandow',\n",
       "       'Valerie Mitchum', 'Fred Hopkins', 'Maria Bertelson',\n",
       "       'Bruce Stewart', 'Logan Currie', 'Heather Kirkland',\n",
       "       'Laurel Elliston', 'Joseph Holt', 'Michael Stewart',\n",
       "       'Victoria Wilson', 'Jonathan Howell', 'Joni Blumstein',\n",
       "       'David Smith', 'Valerie Dominguez', 'Erin Ashbrook',\n",
       "       'David Bremer', 'Ken Lonsdale', 'Dianna Wilson',\n",
       "       'Logan Haushalter', 'Kelly Collister', 'Delfina Latchford',\n",
       "       'Dan Reichenbach', 'Craig Carreira', 'Dorris liebe',\n",
       "       'Sean Braxton', 'Roy Collins', 'Alan Hwang', 'Claudia Bergmann',\n",
       "       'Christine Abelman', 'Kristen Hastings', 'Barry Blumstein',\n",
       "       'Andrew Gjertsen', \"Jas O'Carroll\", 'Alan Haines', 'Nick Zandusky',\n",
       "       'Kelly Lampkin', 'Alan Schoenberger', 'Corey Roper',\n",
       "       'Shahid Hopkins', 'Ben Peterman', 'Thomas Seio', 'Andy Gerbode',\n",
       "       'Sung Pak', 'Nathan Mautz', 'Frank Atkinson', 'Grace Kelly',\n",
       "       'Don Jones', \"Patrick O'Brill\", 'John Lucas', 'Doug Bickford',\n",
       "       'Alyssa Crouse', 'Clay Cheatham', 'Tamara Dahlen',\n",
       "       'Adam Bellavance', 'Jeremy Lonsdale', 'Victoria Brennan',\n",
       "       'Katrina Willman', 'Julia Dunbar', 'Michael Kennedy',\n",
       "       'Guy Thornton', 'Arthur Gainer', 'Muhammed MacIntyre',\n",
       "       'Allen Rosenblatt', 'Russell Applegate', 'Alejandro Savely',\n",
       "       'Laura Armstrong', 'Denny Ordway', 'Dean Katz', 'Nathan Gelder',\n",
       "       'Mike Vittorini', 'Jack Garza', 'Bart Pistole', 'Victor Preis',\n",
       "       'Saphhira Shifley', 'Anna Gayman', 'Luke Foster',\n",
       "       'Roy FranzÃ¶sisch', 'Keith Herrera', 'Kimberly Carter',\n",
       "       'Caroline Jumper', 'Philip Brown', 'Michael Paige',\n",
       "       'Natalie Fritzler', 'Shirley Daniels', 'Ken Heidel', 'Ross Baird',\n",
       "       'Mike Kennedy', 'Philisse Overcash', 'Brenda Bowman', 'Pete Kriz.',\n",
       "       'Troy Blackwell', 'Raymond Buch', 'Ed Braxton', 'Sanjit Chand',\n",
       "       'Joseph Holt@', 'Tanja Norvell', 'Joni Sundaresam', 'Maya Herman',\n",
       "       'Jeremy Pistek', 'Jeremy Ellison', 'John Grady', 'Xylona Preis',\n",
       "       'Erin Mull', 'Michelle Tran', 'Sue Ann Reed', 'Carl Weiss',\n",
       "       'Astrea Jones', 'Sonia Sunley', \"Rose O'Brian\", 'Maribeth Dona',\n",
       "       'Maribeth Yedwab', 'Christopher Martinez', 'Lynn Smith',\n",
       "       'Bradley Nguyen', 'Dean Braden', 'Matt Connell', 'Brian Dahlen',\n",
       "       'Patricia Hirasaki', 'Mike Gockenbach', 'Karen Bern',\n",
       "       'Jasper Cacioppo', 'Rob Lucas', 'Allen Armold', 'Emily Phan',\n",
       "       'Darren Koutras', 'Bradley Drucker', 'Liz MacKendrick',\n",
       "       'Adrian Shami', 'Bill Donatelli', 'Greg Tran', 'Ashley Jarboe',\n",
       "       'Olvera Toch', 'Liz Pelletier', 'Cynthia Arntzen', 'Jeremy Farry',\n",
       "       'Frank Preis', 'Ellis Ballard', 'Jennifer Ferguson',\n",
       "       'Sarah Foster', 'Trudy Glocke', 'Carlos Soltero',\n",
       "       'Charles Crestani', 'Dianna Vittorini', 'Bruce Degenhardt',\n",
       "       'Zuschuss Carroll', 'Melanie Seite', 'Lena Radford',\n",
       "       'Theone Pippenger', 'Chloris Kastensmidt', 'Alan Shonely',\n",
       "       'Andrew Roberts', 'Nona Balk.,', 'Giulietta Dortch',\n",
       "       'Clytie Kelty', 'Nat Gilpin', 'Christina Anderson',\n",
       "       'Sylvia Foulston', \"Meg O'Connel\", 'Annie Thurman', 'Fred McMath',\n",
       "       'Denny Joy', 'Max Engle', 'Justin Deggeller', 'John Lee',\n",
       "       'Sean Christensen', 'Chuck Clark', 'Anthony Rawles',\n",
       "       'Steven Roelle', 'Craig Reiter', 'Eugene Hildebrand',\n",
       "       'Sibella Parks', 'Tiffany House', 'Resi PÃ¶lking', 'Rob Beeghly',\n",
       "       'Carol Darley', 'Doug Jacobs', 'Grant Thornton', 'Michael Chen',\n",
       "       'Ralph Arnett', 'Naresj Patel', 'Alan Barnes', 'Jesus Ocampo',\n",
       "       'Jay Kimmel', 'Brad Norvell', 'David Philippe', 'Tracy Hopkins',\n",
       "       'Arthur Prichep', 'Roland Schwarz', 'Seth Vernon',\n",
       "       'Christine Kargatis', 'Ross DeVincentis', 'Mathew Reese',\n",
       "       'Steve Chapman', 'Jay Fein', 'Emily Grady', 'Darrin Sayre',\n",
       "       'Phillina Ober', 'Sung Shariari', 'Peter BÃ¼hler', 'Roland Fjeld',\n",
       "       'Yoseph Carroll', 'Nona Balk', 'Debra Catini', 'Christine Phan',\n",
       "       'Barry FranzÃ¶sisch', 'Lisa Hazard', 'Chris Selesnick',\n",
       "       'Anthony Johnson', 'Benjamin Venier', 'Dan Lawera', 'Bryan Mills',\n",
       "       'Liz Thompson', 'Joe Kamberova', 'Erica Smith', 'Rick Hansen',\n",
       "       'Carlos Daly', 'Helen Wasserman', 'Mike Caudle', 'Gary McGarr',\n",
       "       'Pauline Johnson', 'Bart Watters', 'Toby Ritter',\n",
       "       'Patrick Gardner', 'James Lanier', 'Brian Moss', 'Eudokia Martin',\n",
       "       'Art Foster', 'Guy Armstrong', 'Cyma Kinney', 'Dave Poirier',\n",
       "       'Berenike Kampe', 'Sanjit Jacobs', 'Chuck Magee', 'Anthony Jacobs',\n",
       "       'Linda Southworth', 'Guy Phonely', 'Paul Knutson',\n",
       "       'Sally Matthias', 'Anthony Garverick', 'Peter McVee',\n",
       "       'Lauren Leatherbury', 'Jill Stevenson', 'Ed Ludwig',\n",
       "       'Pamela Coakley', 'Hunter Lopez', 'Maribeth Schnelling',\n",
       "       'George Bell', 'Justin Ritter', 'Bill Eplett', 'Sample Company A',\n",
       "       'Rob Williams', 'Sanjit Engle', 'Adam Hart', 'Jessica Myrick',\n",
       "       'Joel Jenkins', 'Ralph Kennedy', 'Catherine Glotzbach',\n",
       "       'Rachel Payne', 'Karen Carlisle', 'Katherine Hughes',\n",
       "       'Greg Hansen', 'Scott Williamson', 'Joseph Airdo', 'Daniel Lacy',\n",
       "       'Lindsay Williams', 'Thomas Brumley', 'Bryan Spruell',\n",
       "       'Robert Waldorf', 'Tracy Zic', 'Ann Steele', 'Toby Swindell',\n",
       "       'Sara Luxemburg', 'Mitch Willingham', 'Rob Dowd', 'Ryan Akin',\n",
       "       'Meg Tillman', 'Vivek Gonzalez', 'John Stevenson', 'Kalyca Meade',\n",
       "       'Hallie Redmond', 'Deanra Eno', 'Allen Goldenen',\n",
       "       'Jennifer Jackson', 'Jennifer Halladay', 'Robert Dilbeck',\n",
       "       \"Mary O'Rourke\", 'Noel Staavos', 'Steve Nguyen', 'Deirdre Greer',\n",
       "       'Nicole Fjeld', 'Matthew Grinstein', 'Theresa Swint',\n",
       "       'Brian DeCherney', 'Charles McCrossin', 'Skye Norling',\n",
       "       'Erica Hernandez', 'Frank Olsen', 'Maurice Satty',\n",
       "       'Chad Cunningham', 'Don Weiss', 'Bill Tyler', 'Craig Yedwab',\n",
       "       'Brad Thomas', 'Penelope Sewall', 'Paul Van Hugh', 'Neoma Murray',\n",
       "       'Dionis Lloyd', 'Christine Sundaresam', 'Frank Hawley',\n",
       "       'Nat Carroll', 'Alex Avila', 'Larry Tron', 'Anne Pryor',\n",
       "       'Paul MacIntyre', 'Alyssa Tate', 'Cathy Armstrong', 'Harold Ryan',\n",
       "       'Bradley Talbott', 'Larry Hughes', 'Steven Ward',\n",
       "       'Stefania Perrino', 'Ben Ferrer', 'Kean Thornton',\n",
       "       'Brooke Gillingham', 'Greg Matthias', 'Eva Jacobs', 'Nora Preis',\n",
       "       'Mick Hernandez', 'Jocasta Rupert', 'Suzanne McNair',\n",
       "       'Chris Cortes', 'Phillip Flathmann', 'Dan Campbell', 'Bryan Davis',\n",
       "       'Gene McClure', 'Todd Boyes', 'Justin Hirsh', 'Erica Bern',\n",
       "       'Quincy Jones', 'Tracy Collins', 'Chuck Sachs', 'Henry Goldwyn',\n",
       "       'Laurel Workman', 'Matt Collins', 'Liz Preis', 'Evan Bailliet',\n",
       "       'George Zrebassa', 'Cathy Prescott', 'Frank Gastineau',\n",
       "       'Lisa DeCherney', 'Alejandro Ballentine', 'Michael Nguyen',\n",
       "       'Jim Radford', 'Jamie Frazer', 'Chad McGuire', 'Aaron Smayling',\n",
       "       'Beth Paige', 'Natalie DeCherney', 'Larry Blacks', 'Kean Takahito',\n",
       "       'Harry Marie', 'Ann Blume', 'Sam Zeldin', 'Michael Granlund',\n",
       "       'Julie Kriz', 'Paul Prost', 'Yana Sorensen', 'Katherine Murray',\n",
       "       'Adrian Barton', 'Helen Abelman', 'Beth Thompson', 'Stuart Van',\n",
       "       'Rick Wilson', 'Damala Kotsonis', 'Shui Tom', 'Michael Moore',\n",
       "       'Pauline Webber', 'Shaun Chance', 'Thais Sissman', 'Mark Cousins',\n",
       "       'Maria Etezadi', 'Nicole Hansen', 'Mick Brown', 'Keith Dawkins',\n",
       "       'Katherine Nockton', 'Nora Pelletier', 'Cindy Stewart',\n",
       "       'Maxwell Schwartz', 'Corinna Mitchell', 'Corey-Lock',\n",
       "       'Todd Sumrall', 'Jane Waco', 'John Dryer', 'Neil Knudson',\n",
       "       'Pauline Chand', 'Andy Reiter', 'Arianne Irving',\n",
       "       'Tom Boeckenhauer', 'Paul Lucas', 'Gary Hwang', 'Mike Pelletier',\n",
       "       'Jim Mitchum', 'Carl Ludwig', 'Deborah Brumfield', 'Ivan Gibson',\n",
       "       'Bobby Odegard', 'Aimee Bixby', 'Julia West', 'Edward Becker',\n",
       "       'Sheri Gordon', 'Charlotte Melton', 'Anthony Witt',\n",
       "       'Mick Crebagga', 'Tonja Turnell', 'Vivek Grady', 'Muhammed Yedwab',\n",
       "       'Rick Duston', 'Dennis Pardue', 'Marina Lichtenstein',\n",
       "       'Jenna Caffey', 'James Galang', 'Marc Crier', 'Natalie Webber',\n",
       "       'Toby Braunhardt', 'Bill Stewart', 'Hilary Holden',\n",
       "       'Christina DeMoss', 'Thea Hendricks', 'Michelle Moray',\n",
       "       'Neola Schneider', 'Robert Barroso', 'Shaun Weien', 'Eric Barreto',\n",
       "       'Pamela Stobb', 'Herbert Flentye', 'Henia Zydlo',\n",
       "       'Cynthia Delaney', 'Jamie Kunitz', 'Filia McAdams', 'Emily Ducich',\n",
       "       'Dianna Arnett', 'Joni Wasserman', 'Raymond Messe', 'Max Ludwig',\n",
       "       'Craig Carroll', 'Jim Epp', 'Roy Phan', 'Thomas Boland',\n",
       "       'Brad Eason', 'Jill Fjeld', 'Phillip Breyer', 'Brian Thompson',\n",
       "       'Janet Lee', 'Cathy Hwang', 'Neil Ducich', 'Barbara Fisher',\n",
       "       'Katharine Harms', 'Giulietta Weimer', 'Noah Childs',\n",
       "       'Michelle Ellison', 'Benjamin Patterson', 'John Castell',\n",
       "       'Adam Shillingsburg', 'Amy Cox'], dtype=object)"
      ]
     },
     "execution_count": 18,
     "metadata": {},
     "output_type": "execute_result"
    }
   ],
   "source": [
    "data.Name.unique()"
   ]
  },
  {
   "cell_type": "code",
   "execution_count": 19,
   "id": "77dedfc7",
   "metadata": {},
   "outputs": [],
   "source": [
    "import re"
   ]
  },
  {
   "cell_type": "code",
   "execution_count": 20,
   "id": "674cb957",
   "metadata": {},
   "outputs": [],
   "source": [
    "for i in range(len(data)):\n",
    "    data.loc[i,'Name']=re.sub(r\"\\W+|_\", \" \",data.loc[i,\"Name\"])"
   ]
  },
  {
   "cell_type": "code",
   "execution_count": 21,
   "id": "51783c74",
   "metadata": {},
   "outputs": [
    {
     "data": {
      "text/plain": [
       "array(['Claire Gute', 'Darrin Van Huff', 'Sean O Donnell',\n",
       "       'Brosina Hoffman', 'Andrew Allen', 'Irene Maddox', 'Harold Pawlan',\n",
       "       'Pete Kriz', 'Alejandro Grove', 'Zuschuss Donatelli', 'Ken Black',\n",
       "       'Sandra Flanagan', 'Emily Burns', 'Eric Hoffmann',\n",
       "       'Tracy Blumstein', 'Matt Abelman ', 'Gene Hale ', 'Steve Nguyen ',\n",
       "       'Linda Cazamias', 'Ruben Ausman', 'Erin Smith', 'Odella Nelson',\n",
       "       'Patrick O Donnell', 'Lena Hernandez', 'Darren Powers',\n",
       "       'Janet Molinari', 'Ted Butterfield', 'Kunst Miller',\n",
       "       'Paul Stevenson', 'Brendan Sweed', 'Karen Daniels',\n",
       "       'Henry MacAllister', 'Joel Eaton', 'Ken Brennan',\n",
       "       'Stewart Carmichael', 'Duane Noonan', 'Julie Creighton',\n",
       "       'Christopher Schild', 'Paul Gonzalez', 'Gary Mitchum', 'Jim Sink',\n",
       "       'Karl Braun', 'Roger Barcio', 'Parhena Norris', 'Katherine Ducich',\n",
       "       'Elpida Rittenbach', 'Rick Bensley', 'Gary Zandusky',\n",
       "       'Lena Cacioppo', 'Janet Martin', 'Pete Armstrong', 'Cynthia Voltz',\n",
       "       'Clay Ludtke', 'Ryan Crowe', 'Dave Kipp', 'Greg Guthrie',\n",
       "       'Steven Cartwright', 'Alan Dominguez', 'Philip Fox',\n",
       "       'Troy Staebel', 'Lindsay Shagiari', 'Dorothy Wardle',\n",
       "       'Lena Creighton', 'Jonathan Doherty', 'Sally Hughsby',\n",
       "       'Sandra Glassco', 'Helen Andreada', 'Maureen Gastineau',\n",
       "       'Justin Ellison', 'Tamara Willingham', 'Stephanie Phelps',\n",
       "       'Neil Knudson', 'Dave Brooks', 'Nora Paige', 'Ted Trevino',\n",
       "       'Eric Murdock', 'Ruben Dartt', 'Max Jones', 'Becky Martin',\n",
       "       'Chad Sievert', 'Jennifer Braxton', 'Shirley Jackson', 'Jim Kriz',\n",
       "       'David Kendrick', 'Robert Marley', 'Sally Knutson', 'Frank Merwin',\n",
       "       'Alice McCarthy', 'Mark Packer', 'Mary Zewe', 'Cassandra Brandow',\n",
       "       'Valerie Mitchum', 'Fred Hopkins', 'Maria Bertelson',\n",
       "       'Bruce Stewart', 'Logan Currie', 'Heather Kirkland',\n",
       "       'Laurel Elliston', 'Joseph Holt', 'Michael Stewart',\n",
       "       'Victoria Wilson', 'Jonathan Howell', 'Joni Blumstein',\n",
       "       'David Smith', 'Valerie Dominguez', 'Erin Ashbrook',\n",
       "       'David Bremer', 'Ken Lonsdale', 'Dianna Wilson',\n",
       "       'Logan Haushalter', 'Kelly Collister', 'Delfina Latchford',\n",
       "       'Dan Reichenbach', 'Craig Carreira', 'Dorris liebe',\n",
       "       'Sean Braxton', 'Roy Collins', 'Alan Hwang', 'Claudia Bergmann',\n",
       "       'Christine Abelman', 'Kristen Hastings', 'Barry Blumstein',\n",
       "       'Andrew Gjertsen', 'Jas O Carroll', 'Alan Haines', 'Nick Zandusky',\n",
       "       'Kelly Lampkin', 'Alan Schoenberger', 'Corey Roper',\n",
       "       'Shahid Hopkins', 'Ben Peterman', 'Thomas Seio', 'Andy Gerbode',\n",
       "       'Sung Pak', 'Nathan Mautz', 'Frank Atkinson', 'Grace Kelly',\n",
       "       'Don Jones', 'Patrick O Brill', 'John Lucas', 'Doug Bickford',\n",
       "       'Alyssa Crouse', 'Clay Cheatham', 'Tamara Dahlen',\n",
       "       'Adam Bellavance', 'Jeremy Lonsdale', 'Victoria Brennan',\n",
       "       'Katrina Willman', 'Julia Dunbar', 'Michael Kennedy',\n",
       "       'Guy Thornton', 'Arthur Gainer', 'Muhammed MacIntyre',\n",
       "       'Allen Rosenblatt', 'Russell Applegate', 'Alejandro Savely',\n",
       "       'Laura Armstrong', 'Denny Ordway', 'Dean Katz', 'Nathan Gelder',\n",
       "       'Mike Vittorini', 'Jack Garza', 'Bart Pistole', 'Victor Preis',\n",
       "       'Saphhira Shifley', 'Anna Gayman', 'Luke Foster',\n",
       "       'Roy FranzÃ sisch', 'Keith Herrera', 'Kimberly Carter',\n",
       "       'Caroline Jumper', 'Philip Brown', 'Michael Paige',\n",
       "       'Natalie Fritzler', 'Shirley Daniels', 'Ken Heidel', 'Ross Baird',\n",
       "       'Mike Kennedy', 'Philisse Overcash', 'Brenda Bowman', 'Pete Kriz ',\n",
       "       'Troy Blackwell', 'Raymond Buch', 'Ed Braxton', 'Sanjit Chand',\n",
       "       'Joseph Holt ', 'Tanja Norvell', 'Joni Sundaresam', 'Maya Herman',\n",
       "       'Jeremy Pistek', 'Jeremy Ellison', 'John Grady', 'Xylona Preis',\n",
       "       'Erin Mull', 'Michelle Tran', 'Sue Ann Reed', 'Carl Weiss',\n",
       "       'Astrea Jones', 'Sonia Sunley', 'Rose O Brian', 'Maribeth Dona',\n",
       "       'Maribeth Yedwab', 'Christopher Martinez', 'Lynn Smith',\n",
       "       'Bradley Nguyen', 'Dean Braden', 'Matt Connell', 'Brian Dahlen',\n",
       "       'Patricia Hirasaki', 'Mike Gockenbach', 'Karen Bern',\n",
       "       'Jasper Cacioppo', 'Rob Lucas', 'Allen Armold', 'Emily Phan',\n",
       "       'Darren Koutras', 'Bradley Drucker', 'Liz MacKendrick',\n",
       "       'Adrian Shami', 'Bill Donatelli', 'Greg Tran', 'Ashley Jarboe',\n",
       "       'Olvera Toch', 'Liz Pelletier', 'Cynthia Arntzen', 'Jeremy Farry',\n",
       "       'Frank Preis', 'Ellis Ballard', 'Jennifer Ferguson',\n",
       "       'Sarah Foster', 'Trudy Glocke', 'Carlos Soltero',\n",
       "       'Charles Crestani', 'Dianna Vittorini', 'Bruce Degenhardt',\n",
       "       'Zuschuss Carroll', 'Melanie Seite', 'Lena Radford',\n",
       "       'Theone Pippenger', 'Chloris Kastensmidt', 'Alan Shonely',\n",
       "       'Andrew Roberts', 'Nona Balk ', 'Giulietta Dortch', 'Clytie Kelty',\n",
       "       'Nat Gilpin', 'Christina Anderson', 'Sylvia Foulston',\n",
       "       'Meg O Connel', 'Annie Thurman', 'Fred McMath', 'Denny Joy',\n",
       "       'Max Engle', 'Justin Deggeller', 'John Lee', 'Sean Christensen',\n",
       "       'Chuck Clark', 'Anthony Rawles', 'Steven Roelle', 'Craig Reiter',\n",
       "       'Eugene Hildebrand', 'Sibella Parks', 'Tiffany House',\n",
       "       'Resi PÃ lking', 'Rob Beeghly', 'Carol Darley', 'Doug Jacobs',\n",
       "       'Grant Thornton', 'Michael Chen', 'Ralph Arnett', 'Naresj Patel',\n",
       "       'Alan Barnes', 'Jesus Ocampo', 'Jay Kimmel', 'Brad Norvell',\n",
       "       'David Philippe', 'Tracy Hopkins', 'Arthur Prichep',\n",
       "       'Roland Schwarz', 'Seth Vernon', 'Christine Kargatis',\n",
       "       'Ross DeVincentis', 'Mathew Reese', 'Steve Chapman', 'Jay Fein',\n",
       "       'Emily Grady', 'Darrin Sayre', 'Phillina Ober', 'Sung Shariari',\n",
       "       'Peter BÃ¼hler', 'Roland Fjeld', 'Yoseph Carroll', 'Nona Balk',\n",
       "       'Debra Catini', 'Christine Phan', 'Barry FranzÃ sisch',\n",
       "       'Lisa Hazard', 'Chris Selesnick', 'Anthony Johnson',\n",
       "       'Benjamin Venier', 'Dan Lawera', 'Bryan Mills', 'Liz Thompson',\n",
       "       'Joe Kamberova', 'Erica Smith', 'Rick Hansen', 'Carlos Daly',\n",
       "       'Helen Wasserman', 'Mike Caudle', 'Gary McGarr', 'Pauline Johnson',\n",
       "       'Bart Watters', 'Toby Ritter', 'Patrick Gardner', 'James Lanier',\n",
       "       'Brian Moss', 'Eudokia Martin', 'Art Foster', 'Guy Armstrong',\n",
       "       'Cyma Kinney', 'Dave Poirier', 'Berenike Kampe', 'Sanjit Jacobs',\n",
       "       'Chuck Magee', 'Anthony Jacobs', 'Linda Southworth', 'Guy Phonely',\n",
       "       'Paul Knutson', 'Sally Matthias', 'Anthony Garverick',\n",
       "       'Peter McVee', 'Lauren Leatherbury', 'Jill Stevenson', 'Ed Ludwig',\n",
       "       'Pamela Coakley', 'Hunter Lopez', 'Maribeth Schnelling',\n",
       "       'George Bell', 'Justin Ritter', 'Bill Eplett', 'Sample Company A',\n",
       "       'Rob Williams', 'Sanjit Engle', 'Adam Hart', 'Jessica Myrick',\n",
       "       'Joel Jenkins', 'Ralph Kennedy', 'Catherine Glotzbach',\n",
       "       'Rachel Payne', 'Karen Carlisle', 'Katherine Hughes',\n",
       "       'Greg Hansen', 'Scott Williamson', 'Joseph Airdo', 'Daniel Lacy',\n",
       "       'Lindsay Williams', 'Thomas Brumley', 'Bryan Spruell',\n",
       "       'Robert Waldorf', 'Tracy Zic', 'Ann Steele', 'Toby Swindell',\n",
       "       'Sara Luxemburg', 'Mitch Willingham', 'Rob Dowd', 'Ryan Akin',\n",
       "       'Meg Tillman', 'Vivek Gonzalez', 'John Stevenson', 'Kalyca Meade',\n",
       "       'Hallie Redmond', 'Deanra Eno', 'Allen Goldenen',\n",
       "       'Jennifer Jackson', 'Jennifer Halladay', 'Robert Dilbeck',\n",
       "       'Mary O Rourke', 'Noel Staavos', 'Steve Nguyen', 'Deirdre Greer',\n",
       "       'Nicole Fjeld', 'Matthew Grinstein', 'Theresa Swint',\n",
       "       'Brian DeCherney', 'Charles McCrossin', 'Skye Norling',\n",
       "       'Erica Hernandez', 'Frank Olsen', 'Maurice Satty',\n",
       "       'Chad Cunningham', 'Don Weiss', 'Bill Tyler', 'Craig Yedwab',\n",
       "       'Brad Thomas', 'Penelope Sewall', 'Paul Van Hugh', 'Neoma Murray',\n",
       "       'Dionis Lloyd', 'Christine Sundaresam', 'Frank Hawley',\n",
       "       'Nat Carroll', 'Alex Avila', 'Larry Tron', 'Anne Pryor',\n",
       "       'Paul MacIntyre', 'Alyssa Tate', 'Cathy Armstrong', 'Harold Ryan',\n",
       "       'Bradley Talbott', 'Larry Hughes', 'Steven Ward',\n",
       "       'Stefania Perrino', 'Ben Ferrer', 'Kean Thornton',\n",
       "       'Brooke Gillingham', 'Greg Matthias', 'Eva Jacobs', 'Nora Preis',\n",
       "       'Mick Hernandez', 'Jocasta Rupert', 'Suzanne McNair',\n",
       "       'Chris Cortes', 'Phillip Flathmann', 'Dan Campbell', 'Bryan Davis',\n",
       "       'Gene McClure', 'Todd Boyes', 'Justin Hirsh', 'Erica Bern',\n",
       "       'Quincy Jones', 'Tracy Collins', 'Chuck Sachs', 'Henry Goldwyn',\n",
       "       'Laurel Workman', 'Matt Collins', 'Liz Preis', 'Evan Bailliet',\n",
       "       'George Zrebassa', 'Cathy Prescott', 'Frank Gastineau',\n",
       "       'Lisa DeCherney', 'Alejandro Ballentine', 'Michael Nguyen',\n",
       "       'Jim Radford', 'Jamie Frazer', 'Chad McGuire', 'Aaron Smayling',\n",
       "       'Beth Paige', 'Natalie DeCherney', 'Larry Blacks', 'Kean Takahito',\n",
       "       'Harry Marie', 'Ann Blume', 'Sam Zeldin', 'Michael Granlund',\n",
       "       'Julie Kriz', 'Paul Prost', 'Yana Sorensen', 'Katherine Murray',\n",
       "       'Adrian Barton', 'Helen Abelman', 'Beth Thompson', 'Stuart Van',\n",
       "       'Rick Wilson', 'Damala Kotsonis', 'Shui Tom', 'Michael Moore',\n",
       "       'Pauline Webber', 'Shaun Chance', 'Thais Sissman', 'Mark Cousins',\n",
       "       'Maria Etezadi', 'Nicole Hansen', 'Mick Brown', 'Keith Dawkins',\n",
       "       'Katherine Nockton', 'Nora Pelletier', 'Cindy Stewart',\n",
       "       'Maxwell Schwartz', 'Corinna Mitchell', 'Corey Lock',\n",
       "       'Todd Sumrall', 'Jane Waco', 'John Dryer', 'Pauline Chand',\n",
       "       'Andy Reiter', 'Arianne Irving', 'Tom Boeckenhauer', 'Paul Lucas',\n",
       "       'Gary Hwang', 'Mike Pelletier', 'Jim Mitchum', 'Carl Ludwig',\n",
       "       'Deborah Brumfield', 'Ivan Gibson', 'Bobby Odegard', 'Aimee Bixby',\n",
       "       'Julia West', 'Edward Becker', 'Sheri Gordon', 'Charlotte Melton',\n",
       "       'Anthony Witt', 'Mick Crebagga', 'Tonja Turnell', 'Vivek Grady',\n",
       "       'Muhammed Yedwab', 'Rick Duston', 'Dennis Pardue',\n",
       "       'Marina Lichtenstein', 'Jenna Caffey', 'James Galang',\n",
       "       'Marc Crier', 'Natalie Webber', 'Toby Braunhardt', 'Bill Stewart',\n",
       "       'Hilary Holden', 'Christina DeMoss', 'Thea Hendricks',\n",
       "       'Michelle Moray', 'Neola Schneider', 'Robert Barroso',\n",
       "       'Shaun Weien', 'Eric Barreto', 'Pamela Stobb', 'Herbert Flentye',\n",
       "       'Henia Zydlo', 'Cynthia Delaney', 'Jamie Kunitz', 'Filia McAdams',\n",
       "       'Emily Ducich', 'Dianna Arnett', 'Joni Wasserman', 'Raymond Messe',\n",
       "       'Max Ludwig', 'Craig Carroll', 'Jim Epp', 'Roy Phan',\n",
       "       'Thomas Boland', 'Brad Eason', 'Jill Fjeld', 'Phillip Breyer',\n",
       "       'Brian Thompson', 'Janet Lee', 'Cathy Hwang', 'Neil Ducich',\n",
       "       'Barbara Fisher', 'Katharine Harms', 'Giulietta Weimer',\n",
       "       'Noah Childs', 'Michelle Ellison', 'Benjamin Patterson',\n",
       "       'John Castell', 'Adam Shillingsburg', 'Amy Cox'], dtype=object)"
      ]
     },
     "execution_count": 21,
     "metadata": {},
     "output_type": "execute_result"
    }
   ],
   "source": [
    "data.Name.unique()"
   ]
  },
  {
   "cell_type": "code",
   "execution_count": 22,
   "id": "6e1cb9a4",
   "metadata": {},
   "outputs": [
    {
     "data": {
      "text/plain": [
       "array(['M', 'Male', 'F', 'Pria', 'Man', 'Laki-laki', 'Perempuan',\n",
       "       'Wanita', 'Female'], dtype=object)"
      ]
     },
     "execution_count": 22,
     "metadata": {},
     "output_type": "execute_result"
    }
   ],
   "source": [
    "data.Gender.unique()"
   ]
  },
  {
   "cell_type": "code",
   "execution_count": 23,
   "id": "28eac457",
   "metadata": {},
   "outputs": [],
   "source": [
    "for i in range(len(data)):\n",
    "    if data.loc[i,'Gender']=='M' or data.loc[i,'Gender']=='Pria' or data.loc[i,'Gender']=='Laki-laki' or data.loc[i,'Gender']=='Man':\n",
    "        data.loc[i,'Gender']='Male'\n",
    "    elif data.loc[i,'Gender']=='F' or data.loc[i,'Gender']=='Perempuan' or data.loc[i,'Gender']=='Wanita':\n",
    "        data.loc[i,'Gender']='Female'"
   ]
  },
  {
   "cell_type": "code",
   "execution_count": 24,
   "id": "42d66207",
   "metadata": {},
   "outputs": [
    {
     "data": {
      "text/plain": [
       "array(['S1', 'S2', 'SLTA', 'D3', 'SMA', 'D1', 'D4'], dtype=object)"
      ]
     },
     "execution_count": 24,
     "metadata": {},
     "output_type": "execute_result"
    }
   ],
   "source": [
    "data.Edu_Level.unique()"
   ]
  },
  {
   "cell_type": "code",
   "execution_count": 25,
   "id": "b7fd3927",
   "metadata": {},
   "outputs": [],
   "source": [
    "for i in range(len(data)):\n",
    "    if data.loc[i,'Edu_Level']=='SMA':\n",
    "        data.loc[i,'Edu_Level']='SLTA'"
   ]
  },
  {
   "cell_type": "code",
   "execution_count": 26,
   "id": "8d226281",
   "metadata": {},
   "outputs": [
    {
     "data": {
      "text/plain": [
       "array(['Functional Expert Band 2', 'Manager', 'Staff', 'Trainee',\n",
       "       'Supervisor', 'Senior Staff Band 2', 'Senior Staff Band 3',\n",
       "       'Secretary', 'Functional Expert Band 3', 'Senior Vice President',\n",
       "       'Vice President', 'Senior Staff Band 5'], dtype=object)"
      ]
     },
     "execution_count": 26,
     "metadata": {},
     "output_type": "execute_result"
    }
   ],
   "source": [
    "data.Job_Category.unique()"
   ]
  },
  {
   "cell_type": "markdown",
   "id": "59b6b5a9",
   "metadata": {},
   "source": [
    "I use the assumption that:\n",
    "1. Manager is included in the Functinal expert band 2.\n",
    "2. Supervisor is included in the Functinal expert band 3.\n",
    "3. Secretary is included in the senior staff of band 2.\n",
    "4. Staff is included in the senior staff band 3.\n",
    "5. Trainee is included in the senior staff of the band 5."
   ]
  },
  {
   "cell_type": "code",
   "execution_count": 27,
   "id": "b5b750f7",
   "metadata": {},
   "outputs": [],
   "source": [
    "for i in range(len(data)):\n",
    "    if data.loc[i,'Job_Category']=='Manager':\n",
    "        data.loc[i,'Job_Category']='Functional Expert Band 2'\n",
    "    elif data.loc[i,'Job_Category']=='Supervisor':\n",
    "        data.loc[i,'Job_Category']='Functional Expert Band 3'\n",
    "    elif data.loc[i,'Job_Category']=='Secretary':\n",
    "        data.loc[i,'Job_Category']='Senior Staff Band 2'\n",
    "    elif data.loc[i,'Job_Category']=='Staff':\n",
    "        data.loc[i,'Job_Category']='Senior Staff Band 3'\n",
    "    elif data.loc[i,'Job_Category']=='Trainee':\n",
    "        data.loc[i,'Job_Category']='Senior Staff Band 5'"
   ]
  },
  {
   "cell_type": "code",
   "execution_count": 28,
   "id": "fdb990d4",
   "metadata": {},
   "outputs": [
    {
     "data": {
      "text/plain": [
       "array([37, 42, 48, 50, 20, 43, 27, 26, 32, 41, 40, 29, 31, 44, 35, 24, 34,\n",
       "       49, 47, 46, 54, 33, 45, 52, 38, 55, 28, 25, 39, 23, 36, 30, 53, 51,\n",
       "       22], dtype=int64)"
      ]
     },
     "execution_count": 28,
     "metadata": {},
     "output_type": "execute_result"
    }
   ],
   "source": [
    "data.Age.unique()"
   ]
  },
  {
   "cell_type": "code",
   "execution_count": 29,
   "id": "f0943ff7",
   "metadata": {},
   "outputs": [
    {
     "data": {
      "text/plain": [
       "array([3.98, 4.15, 3.23, 0.  , 4.66, 4.71, 4.05, 4.86, 3.76, 3.42, 4.07,\n",
       "       4.29, 4.  , 3.83, 4.26, 3.9 , 4.14, 3.96, 4.02, 3.36, 3.81, 4.04,\n",
       "       5.  , 3.82, 3.05, 4.55, 3.87, 3.68, 3.51, 3.92, 4.52, 4.27, 3.33,\n",
       "       4.31, 4.44, 3.71, 4.22, 3.74, 3.89, 4.4 , 3.93, 4.54, 4.13, 4.03,\n",
       "       4.33, 3.73, 3.55, 4.08, 4.11, 3.86, 3.75, 3.63, 3.62, 3.31, 4.12,\n",
       "       3.85, 3.34, 4.06, 3.01, 3.91, 4.2 , 3.69, 4.37, 3.14, 3.58, 4.7 ,\n",
       "       4.34, 4.6 , 4.23, 3.53, 3.6 , 3.97, 4.21, 3.44, 3.56, 4.01, 2.98,\n",
       "       4.43, 3.67, 4.41, 4.81, 4.64, 4.35, 4.73, 3.52, 3.07, 4.38, 4.53,\n",
       "       4.49, 3.77, 3.72, 2.35, 3.15, 2.67, 3.41, 4.19, 4.1 , 3.79, 4.92,\n",
       "       3.28, 4.39, 3.18, 3.66, 3.43, 3.61, 4.56, 4.67, 4.16, 3.02, 4.62,\n",
       "       4.99, 4.69, 4.32, 2.95, 4.51, 3.99, 4.76, 3.25, 2.93, 4.17, 2.63,\n",
       "       3.8 , 3.2 , 4.09, 3.5 , 3.3 , 3.88, 4.96, 4.74, 4.18, 3.78, 3.29,\n",
       "       3.48, 3.54, 3.94, 4.25, 3.84, 3.35, 3.49, 4.87, 4.47, 4.61, 3.47,\n",
       "       3.7 , 3.11, 3.22, 3.03, 3.27, 3.57, 3.12, 3.17, 3.39, 4.36, 4.42,\n",
       "       2.88, 4.46, 4.68, 4.82, 4.5 , 2.75, 3.08, 3.46, 4.45, 2.9 , 2.89,\n",
       "       4.84, 4.24, 2.91, 4.59, 2.68, 3.45, 4.3 , 3.38, 3.95, 3.13, 4.77,\n",
       "       4.57, 3.24, 4.75, 3.4 , 2.84, 3.64, 2.87, 3.26, 2.45, 3.06, 3.21,\n",
       "       4.28, 4.72, 4.88, 3.65, 3.04, 4.58, 4.48, 4.8 , 2.92, 3.1 , 4.9 ,\n",
       "       4.85, 2.61])"
      ]
     },
     "execution_count": 29,
     "metadata": {},
     "output_type": "execute_result"
    }
   ],
   "source": [
    "data.Score.unique()"
   ]
  },
  {
   "cell_type": "code",
   "execution_count": 30,
   "id": "3e1601f9",
   "metadata": {},
   "outputs": [
    {
     "data": {
      "text/plain": [
       "array([ 628315242420,   85246790036,   85246833311,   85246990032,\n",
       "         85247028027,   85247198103, 6285247276106, 6285247353711,\n",
       "       6285247484084, 6285247594109, 6285247668025, 6285247719140,\n",
       "       6285247884057,   85247990049,   85247919140,   85247977095,\n",
       "         85247975080,   85247977041,   85247960540,  628315232935,\n",
       "         85246755122,   85246848185,   85246919901,   85247047150,\n",
       "         85247110024, 6285247212180, 6285247390004, 6285247460610,\n",
       "       6285247585234, 6285247622153, 6285247710009, 6285247849201,\n",
       "         85247938109,   85247977070,   85247935601,   85247994122,\n",
       "         85247927707,   85247960623,  628315229203,   85246755901,\n",
       "         85246877095,   85246990036,   85247055407,   85247197206,\n",
       "       6285247210009, 6285247394122, 6285247455106, 6285247560610,\n",
       "       6285247655901, 6285247780013, 6285247828205,   85247960462,\n",
       "         85247910035,   85247950322,   85247943229,   85247998103,\n",
       "         85247937620,   85247919805,  628315277041,   85246761701,\n",
       "         85246885023,   85246990004,   85247043229,   85247195661,\n",
       "       6285247219140, 6285247464055, 6285247591104, 6285247643055,\n",
       "       6285247753132, 6285247885254,   85247995123,   85247998105,\n",
       "         85247998115,   85247973034,   85247990045,   85247919134,\n",
       "         85247988220,  628315298115,   85246778207,   85246890004,\n",
       "         85246960623,   85247077036,   85247143055, 6285247362521,\n",
       "       6285247471203,  628524756824, 6285247690032, 6285247775051,\n",
       "       6285247810035,   85247992374,   85247945011,    8524797090,\n",
       "         85247919120,   85247944312,   85247980219,   85247975220,\n",
       "        628315237064,   85246790604,   85246848601,   85246975220,\n",
       "         85247044256,   85247190032, 6285247243017, 6285247348227,\n",
       "       6285247438401, 6285247528205, 6285247633614, 6285247795051,\n",
       "       6285247860610,   85247955044,   85247994109,   85247992037,\n",
       "         85247910024,   85247910009,   85247977506,  628315277036,\n",
       "         85246760610,   85246894513,   85246927514,    8524707960,\n",
       "         85247145231, 6285247294110, 6285247394109, 6285247490301,\n",
       "       6285247519140, 6285247677070, 6285247790004, 6285247897206,\n",
       "         85247933319,   85247980906,    8524797109,   85247948180,\n",
       "         62831528701,   85246722204,   85246880004,    8524697601,\n",
       "         85247033710,   85247119143, 6285247210024, 6285247390805,\n",
       "       6285247492345, 6285247537130, 6285247619143, 6285247719134,\n",
       "       6285247890045,   85247984041,   85247978745,    8524791852,\n",
       "        628315228205,   85246731907,   85246810009,   85246994109,\n",
       "          8524706040,   85247178550, 6285247285705, 6285247362301,\n",
       "        628524742038, 6285247577095, 6285247694109, 6285247748180,\n",
       "       6285247833024,   85247945231,   85247998198,   85247961604,\n",
       "         85247989115,    8524792886,  628315249201,   85246777036,\n",
       "         85246833180,   85246928403,   85247010024,   85247194110,\n",
       "       6285247298105, 6285247392646, 6285247490004, 6285247540475,\n",
       "       6285247690045, 6285247780027,  628524781841,   85247939212,\n",
       "         85247948187,   85247910801,   85247978207,   85247928052,\n",
       "         85247932216,  628315260623,   85246777070,   85246810024,\n",
       "         85246948227,   85247047201,   85247113021, 6285247244312,\n",
       "       6285247373071, 6285247494521, 6285247562521, 6285247698115,\n",
       "       6285247785023, 6285247860068,   85247979109,   85247960610,\n",
       "         85247911757,   85247994110,   85247990008,   85247912180,\n",
       "        628315292024,   85246710024,   85246890045,   85246960610,\n",
       "         85247077340,   85247114609, 6285247298115, 6285247338109,\n",
       "       6285247472701, 6285247592627, 6285247680134, 6285247710024,\n",
       "       6285247830318,   85247964118,   85247943055,   85247959405,\n",
       "         85247948234,   85247990032,   62831521841,   85246733801,\n",
       "         85246819134,   85247090032,   85247136116, 6285247285204,\n",
       "       6285247360653, 6285247410009, 6285247542420, 6285247654302,\n",
       "       6285247785705, 6285247845503,   85247976106,   85247960653,\n",
       "         85247992804,  628315228403,   85246790045,   85246894110,\n",
       "         85246933614,   85247098105,   85247190008, 6285247310024,\n",
       "       6285247498270, 6285247590805, 6285247660610, 6285247880219,\n",
       "         85247940475,   85247997301,   85247978041,   85247992024,\n",
       "         85247933614,  628315219134,   85246775217,   85246819143,\n",
       "         85246943123,   85247010011,   85247160610, 6285247248126,\n",
       "       6285247310009, 6285247498115, 6285247594122, 6285247680013,\n",
       "       6285247733180, 6285247831088,   85247980013,   85247994591,\n",
       "         85247955407,   85247992691,   85247948307,    8524797060,\n",
       "         85247947201,  628315285635,   85246798661,   85246910035,\n",
       "         85247160505, 6285247276017, 6285247310011, 6285247440214,\n",
       "       6285247575081, 6285247644105, 6285247760653, 6285247862301,\n",
       "         85247975701,   85247927217,   85247922980,  628315290036,\n",
       "         85246719013,   85246844105,   85246998103,   85247090805,\n",
       "         85247127511, 6285247210035, 6285247310035, 6285247432137,\n",
       "       6285247510550, 6285247698105, 6285247719901, 6285247843055,\n",
       "         85247984057,   85247948205,   85247933012,   85247911572,\n",
       "         85246794110,   85246860540,   85247092105,   85247160201,\n",
       "       6285247248183, 6285247394110, 6285247490036, 6285247532216,\n",
       "       6285247655016, 6285247854302,   85247990004,   85247930318,\n",
       "         85247971111,   85247933710,   85247922204,   85247950315,\n",
       "        628315245231,   85246843229,   85246929203,   85247093534,\n",
       "         85247193534, 6285247223223, 6285247328806, 6285247494110,\n",
       "       6285247555901, 6285247614609, 6285247792530, 6285247892105,\n",
       "         85247971203,   85247968104,   85247998026,   85247992704,\n",
       "        628315253209,   85246719140,   85246819140,    8524697109,\n",
       "         85247094110,   85247155044, 6285247241042, 6285247333614,\n",
       "       6285247475701, 6285247538401, 6285247676106, 6285247710035,\n",
       "       6285247890036,   85247940214,   85247944052,    8524797036,\n",
       "         85247993905,   62831528901,   85246794122,   85246832216,\n",
       "         85246922153,   85247019140,   85247117602, 6285247219143,\n",
       "        628524733301,  628524763301, 6285247719120, 6285247810024,\n",
       "         85247922153,   85247948227,   85247914609,   85247992105,\n",
       "         85247921044,  628315294122,   85246710801,   85246848227,\n",
       "         85246994122,   85247077095,   85247148227, 6285247213021,\n",
       "       6285247345503, 6285247475043, 6285247560653,    8524796360,\n",
       "         85247953209,   85247922304,   85247910011,  628315219143,\n",
       "         85246722153,   85246843615,   85246919140,   85247019120,\n",
       "         85247187401, 6285247292503, 6285247490503, 6285247598105,\n",
       "       6285247685204, 6285247819143,   85247978664,   85247985023,\n",
       "         85247992054,   85247972701,  628315233433,   85246710011,\n",
       "         85246910011,   85247097206,   85247148205, 6285247228403,\n",
       "       6285247347201, 6285247410035, 6285247580027, 6285247677506,\n",
       "       6285247777041, 6285247813021,   85247923464,   85247942420,\n",
       "         85247998661,  628315292563,   85246728540,   85246885254,\n",
       "         85246952601,   85247060653,   85247192037, 6285247298502,\n",
       "       6285247398103, 6285247510011, 6285247620016,   85247945503,\n",
       "          8524797601,   85247965109,   85247963376,  628315210035,\n",
       "         85246861107,   85246933142,   85247094109,   85247119134,\n",
       "       6285247392037, 6285247419143, 6285247643615, 6285247794122,\n",
       "       6285247878521,   85247919143,   85247985204,  628315248227,\n",
       "         85246710701,   85246850315,   85246994601,   85247028110,\n",
       "         85247192105, 6285247220735, 6285247328205, 6285247490049,\n",
       "       6285247677041, 6285247792503, 6285247877041,   85247930076,\n",
       "         85247972401,   85247947374,   85247994509,   85246733030,\n",
       "         85246846350,   85246990045,   85247048911,   85247144221,\n",
       "       6285247289502, 6285247322801, 6285247555407, 6285247692025,\n",
       "         85247948073,   85247961701,    8524793301,  628315290004,\n",
       "         85246720852,   85246877070,    8524698701,   85247028540,\n",
       "       6285247290036, 6285247333065, 6285247477041, 6285247580219,\n",
       "       6285247628205, 6285247819134,   85247990036,   85247914215,\n",
       "         85247933437,  628315210024,   85246710009,   85246839503,\n",
       "         85246993727,   85247010009,   85247153209, 6285247219013,\n",
       "       6285247432216, 6285247527834, 6285247611561, 6285247746350,\n",
       "       6285247894122,   85247980027,   85247935630,   85247931204,\n",
       "        628315252402,   85246732216,   85246878745,    8524692908,\n",
       "         85247010035,   85247110009, 6285247294122, 6285247392105,\n",
       "       6285247481001, 6285247594533, 6285247655106, 6285247794109,\n",
       "       6285247822153,   85247931907,   85247977036,   85247991104,\n",
       "          8524791841,  628315219120,   85246732725,   85246845231,\n",
       "         85246942071,   85247028403,    8524711841, 6285247260653,\n",
       "       6285247319120,  628524746360, 6285247594110, 6285247744052,\n",
       "       6285247875220,    8524796457,   85247928540,   85247911520,\n",
       "        628315260201,   85246894109,   85246977036,   85247040214,\n",
       "         85247176106, 6285247290049, 6285247485705, 6285247590660,\n",
       "       6285247680906, 6285247720735, 6285247894591,   85247984604,\n",
       "         85247984062,   85247960505,   85247930080,  628315224153,\n",
       "         85246743229,   85246910024,   85247085023,   85247175051,\n",
       "       6285247492627, 6285247577041, 6285247793905, 6285247843229,\n",
       "         85247944134,    8524792908,  628315280013,   85246760623,\n",
       "         85246860653,   85246919134,   85247090008,   85247185023,\n",
       "       6285247236608, 6285247331907,  628524742740, 6285247575061,\n",
       "        628524766457, 6285247798103,  628524788360,   85247985301,\n",
       "         85246714304,   85246927360,   85247092683,   85247194122,\n",
       "       6285247238301, 6285247398115, 6285247590008,   85247975019,\n",
       "         85246868104,   85247091767,   85247175220, 6285247219120,\n",
       "       6285247389031, 6285247498105, 6285247818103,   85247919711,\n",
       "         85247933142,   85247985281,   85247992677,    8524798302,\n",
       "          8524792149,  628315243229,   85246792024,   85246813601,\n",
       "         85246978207,   85247177095, 6285247292024, 6285247354915,\n",
       "       6285247440475, 6285247598006, 6285247898103,   85247929203,\n",
       "        628315275002,   85246790004,   85246830318,   85247079907,\n",
       "       6285247235630, 6285247410024, 6285247523464, 6285247676051,\n",
       "       6285247798502, 6285247890032,   85247975007,   85247919901,\n",
       "         85247937167,  628315290049,   85246790008,   85246894601,\n",
       "         85246919143,   85247055122,   85247110011, 6285247298031,\n",
       "       6285247390049, 6285247410011, 6285247570506, 6285247744105,\n",
       "       6285247897224,   85247920016,   85247960076,   85246898115,\n",
       "         85247075217, 6285247277095, 6285247475023, 6285247523434,\n",
       "       6285247794110,   85247946203,  628315275023,    8524677002,\n",
       "         85246890008,   85246998115, 6285247285301, 6285247494122,\n",
       "       6285247577070, 6285247810011,   85247943017,   85247928314,\n",
       "         85247975081,  628315228540,   85246892037,   85247014609,\n",
       "         85247128540, 6285247378207, 6285247494601, 6285247777095,\n",
       "       6285247877095,   85247923434,   85247927405,   85247921215,\n",
       "          8524682038,   85246953209,   85247053142, 6285247253711,\n",
       "       6285247377041, 6285247466062, 6285247510024, 6285247695123,\n",
       "       6285247775081, 6285247898002,   85247974133,   85247922801,\n",
       "        628315298105,   85246860623,   85247097756,   85247127604,\n",
       "       6285247231204, 6285247344105, 6285247474403, 6285247528110,\n",
       "       6285247678745,  628524776450, 6285247830076,   85247928205,\n",
       "         85247942104,   85247946614,  628315290032,   85246777041,\n",
       "          8524686010,   85246910009,   85247078207,   85247180013,\n",
       "       6285247243055, 6285247389015, 6285247598103, 6285247694122,\n",
       "       6285247799207,   85247911561,   85247976248,  628315233012,\n",
       "         85246745014,   85246892646,   85246932127,   85247097504,\n",
       "         85247122901, 6285247259801, 6285247355407, 6285247433178,\n",
       "       6285247529501], dtype=int64)"
      ]
     },
     "execution_count": 30,
     "metadata": {},
     "output_type": "execute_result"
    }
   ],
   "source": [
    "data.Phone_Number.unique()"
   ]
  },
  {
   "cell_type": "code",
   "execution_count": 31,
   "id": "94d15f85",
   "metadata": {},
   "outputs": [],
   "source": [
    "for i in range(len(data)):\n",
    "    if int(str(data.loc[i,'Phone_Number'])[:1])==8:\n",
    "        data.loc[i,'Phone_Number']=int('62'+str(data.loc[i,'Phone_Number']))"
   ]
  },
  {
   "cell_type": "code",
   "execution_count": 32,
   "id": "e0213d66",
   "metadata": {},
   "outputs": [
    {
     "data": {
      "text/plain": [
       "array(['DKI Jakarta', 'Jakarta', 'JKT', 'West Java', 'Jawa Barat',\n",
       "       'Jabar', 'Bandung', 'Jakarta Selatan', 'South Jakarta',\n",
       "       'East Jakarta', 'Purwokerto', 'Purwakarta', 'Yogyakarta', 'DIY',\n",
       "       'Depok', 'Bogor', 'Bekasi', 'Tangerang Selatan', 'Kalideres',\n",
       "       'Sukabumi', 'Bali', 'Denpasar'], dtype=object)"
      ]
     },
     "execution_count": 32,
     "metadata": {},
     "output_type": "execute_result"
    }
   ],
   "source": [
    "data.Domicile_Province.unique()"
   ]
  },
  {
   "cell_type": "code",
   "execution_count": 33,
   "id": "98e7d349",
   "metadata": {},
   "outputs": [],
   "source": [
    "for i in range(len(data)):\n",
    "    if data.loc[i,'Domicile_Province']=='Jakarta' or data.loc[i,'Domicile_Province']=='JKT' or data.loc[i,'Domicile_Province']=='Jakarta Selatan' or data.loc[i,'Domicile_Province']=='South Jakarta' or data.loc[i,'Domicile_Province']=='East Jakarta' or data.loc[i,'Domicile_Province']=='Kalideres':\n",
    "        data.loc[i,'Domicile_Province']='DKI Jakarta'\n",
    "    elif data.loc[i,'Domicile_Province']=='West Java' or data.loc[i,'Domicile_Province']=='Jabar' or data.loc[i,'Domicile_Province']=='Bandung' or data.loc[i,'Domicile_Province']=='Purwakarta' or data.loc[i,'Domicile_Province']=='Depok' or data.loc[i,'Domicile_Province']=='Bogor' or data.loc[i,'Domicile_Province']=='Bekasi' or data.loc[i,'Domicile_Province']=='Tangerang Selatan' or data.loc[i,'Domicile_Province']=='Sukabumi':\n",
    "        data.loc[i,'Domicile_Province']='Jawa Barat'\n",
    "    elif data.loc[i,'Domicile_Province']=='Purwokerto':\n",
    "        data.loc[i,'Domicile_Province']='Jawa Tengah'\n",
    "    elif data.loc[i,'Domicile_Province']=='Yogyakarta' or data.loc[i,'Domicile_Province']=='DIY':\n",
    "        data.loc[i,'Domicile_Province']='DI Yogyakarta'\n",
    "    elif data.loc[i,'Domicile_Province']=='Denpasar':\n",
    "        data.loc[i,'Domicile_Province']='Bali'"
   ]
  },
  {
   "cell_type": "code",
   "execution_count": 34,
   "id": "cae7b604",
   "metadata": {},
   "outputs": [
    {
     "data": {
      "text/html": [
       "<div>\n",
       "<style scoped>\n",
       "    .dataframe tbody tr th:only-of-type {\n",
       "        vertical-align: middle;\n",
       "    }\n",
       "\n",
       "    .dataframe tbody tr th {\n",
       "        vertical-align: top;\n",
       "    }\n",
       "\n",
       "    .dataframe thead th {\n",
       "        text-align: right;\n",
       "    }\n",
       "</style>\n",
       "<table border=\"1\" class=\"dataframe\">\n",
       "  <thead>\n",
       "    <tr style=\"text-align: right;\">\n",
       "      <th></th>\n",
       "      <th>Employee_Id</th>\n",
       "      <th>Name</th>\n",
       "      <th>Gender</th>\n",
       "      <th>Edu_Level</th>\n",
       "      <th>Job_Category</th>\n",
       "      <th>Age</th>\n",
       "      <th>Score</th>\n",
       "      <th>Phone_Number</th>\n",
       "      <th>Domicile_Province</th>\n",
       "    </tr>\n",
       "  </thead>\n",
       "  <tbody>\n",
       "    <tr>\n",
       "      <th>163</th>\n",
       "      <td>164</td>\n",
       "      <td>Julia Dunbar</td>\n",
       "      <td>Male</td>\n",
       "      <td>S2</td>\n",
       "      <td>Senior Staff Band 3</td>\n",
       "      <td>49</td>\n",
       "      <td>4.07</td>\n",
       "      <td>6285246994109</td>\n",
       "      <td>DKI Jakarta</td>\n",
       "    </tr>\n",
       "    <tr>\n",
       "      <th>53</th>\n",
       "      <td>54</td>\n",
       "      <td>Pete Armstrong</td>\n",
       "      <td>Female</td>\n",
       "      <td>S1</td>\n",
       "      <td>Functional Expert Band 3</td>\n",
       "      <td>37</td>\n",
       "      <td>4.54</td>\n",
       "      <td>6285247960462</td>\n",
       "      <td>DKI Jakarta</td>\n",
       "    </tr>\n",
       "    <tr>\n",
       "      <th>20</th>\n",
       "      <td>21</td>\n",
       "      <td>Erin Smith</td>\n",
       "      <td>Female</td>\n",
       "      <td>D3</td>\n",
       "      <td>Functional Expert Band 3</td>\n",
       "      <td>49</td>\n",
       "      <td>3.96</td>\n",
       "      <td>628315232935</td>\n",
       "      <td>Bali</td>\n",
       "    </tr>\n",
       "    <tr>\n",
       "      <th>721</th>\n",
       "      <td>722</td>\n",
       "      <td>Cindy Stewart</td>\n",
       "      <td>Male</td>\n",
       "      <td>S1</td>\n",
       "      <td>Functional Expert Band 2</td>\n",
       "      <td>38</td>\n",
       "      <td>4.07</td>\n",
       "      <td>6285246731907</td>\n",
       "      <td>Jawa Barat</td>\n",
       "    </tr>\n",
       "    <tr>\n",
       "      <th>287</th>\n",
       "      <td>288</td>\n",
       "      <td>Meg O Connel</td>\n",
       "      <td>Male</td>\n",
       "      <td>S2</td>\n",
       "      <td>Senior Staff Band 3</td>\n",
       "      <td>29</td>\n",
       "      <td>3.66</td>\n",
       "      <td>6285247310009</td>\n",
       "      <td>DKI Jakarta</td>\n",
       "    </tr>\n",
       "    <tr>\n",
       "      <th>809</th>\n",
       "      <td>810</td>\n",
       "      <td>Shaun Weien</td>\n",
       "      <td>Male</td>\n",
       "      <td>S1</td>\n",
       "      <td>Functional Expert Band 3</td>\n",
       "      <td>38</td>\n",
       "      <td>3.89</td>\n",
       "      <td>6285247523434</td>\n",
       "      <td>Jawa Barat</td>\n",
       "    </tr>\n",
       "    <tr>\n",
       "      <th>409</th>\n",
       "      <td>410</td>\n",
       "      <td>Guy Armstrong</td>\n",
       "      <td>Female</td>\n",
       "      <td>S1</td>\n",
       "      <td>Functional Expert Band 3</td>\n",
       "      <td>32</td>\n",
       "      <td>3.55</td>\n",
       "      <td>6285247528205</td>\n",
       "      <td>DI Yogyakarta</td>\n",
       "    </tr>\n",
       "    <tr>\n",
       "      <th>723</th>\n",
       "      <td>724</td>\n",
       "      <td>Jessica Myrick</td>\n",
       "      <td>Male</td>\n",
       "      <td>S1</td>\n",
       "      <td>Functional Expert Band 3</td>\n",
       "      <td>35</td>\n",
       "      <td>4.22</td>\n",
       "      <td>6285246990036</td>\n",
       "      <td>Jawa Barat</td>\n",
       "    </tr>\n",
       "    <tr>\n",
       "      <th>107</th>\n",
       "      <td>108</td>\n",
       "      <td>David Smith</td>\n",
       "      <td>Female</td>\n",
       "      <td>SLTA</td>\n",
       "      <td>Senior Staff Band 3</td>\n",
       "      <td>39</td>\n",
       "      <td>4.23</td>\n",
       "      <td>6285247348227</td>\n",
       "      <td>Jawa Barat</td>\n",
       "    </tr>\n",
       "    <tr>\n",
       "      <th>561</th>\n",
       "      <td>562</td>\n",
       "      <td>Joel Eaton</td>\n",
       "      <td>Male</td>\n",
       "      <td>S1</td>\n",
       "      <td>Senior Staff Band 3</td>\n",
       "      <td>25</td>\n",
       "      <td>4.39</td>\n",
       "      <td>6285246720852</td>\n",
       "      <td>Jawa Barat</td>\n",
       "    </tr>\n",
       "  </tbody>\n",
       "</table>\n",
       "</div>"
      ],
      "text/plain": [
       "     Employee_Id            Name  Gender Edu_Level              Job_Category  \\\n",
       "163          164    Julia Dunbar    Male        S2       Senior Staff Band 3   \n",
       "53            54  Pete Armstrong  Female        S1  Functional Expert Band 3   \n",
       "20            21      Erin Smith  Female        D3  Functional Expert Band 3   \n",
       "721          722   Cindy Stewart    Male        S1  Functional Expert Band 2   \n",
       "287          288    Meg O Connel    Male        S2       Senior Staff Band 3   \n",
       "809          810     Shaun Weien    Male        S1  Functional Expert Band 3   \n",
       "409          410   Guy Armstrong  Female        S1  Functional Expert Band 3   \n",
       "723          724  Jessica Myrick    Male        S1  Functional Expert Band 3   \n",
       "107          108     David Smith  Female      SLTA       Senior Staff Band 3   \n",
       "561          562      Joel Eaton    Male        S1       Senior Staff Band 3   \n",
       "\n",
       "     Age  Score   Phone_Number Domicile_Province  \n",
       "163   49   4.07  6285246994109       DKI Jakarta  \n",
       "53    37   4.54  6285247960462       DKI Jakarta  \n",
       "20    49   3.96   628315232935              Bali  \n",
       "721   38   4.07  6285246731907        Jawa Barat  \n",
       "287   29   3.66  6285247310009       DKI Jakarta  \n",
       "809   38   3.89  6285247523434        Jawa Barat  \n",
       "409   32   3.55  6285247528205     DI Yogyakarta  \n",
       "723   35   4.22  6285246990036        Jawa Barat  \n",
       "107   39   4.23  6285247348227        Jawa Barat  \n",
       "561   25   4.39  6285246720852        Jawa Barat  "
      ]
     },
     "execution_count": 34,
     "metadata": {},
     "output_type": "execute_result"
    }
   ],
   "source": [
    "data.sample(10)"
   ]
  },
  {
   "cell_type": "code",
   "execution_count": 35,
   "id": "c1b1c2c6",
   "metadata": {},
   "outputs": [
    {
     "name": "stdout",
     "output_type": "stream",
     "text": [
      "<class 'pandas.core.frame.DataFrame'>\n",
      "RangeIndex: 930 entries, 0 to 929\n",
      "Data columns (total 9 columns):\n",
      " #   Column             Non-Null Count  Dtype  \n",
      "---  ------             --------------  -----  \n",
      " 0   Employee_Id        930 non-null    int64  \n",
      " 1   Name               930 non-null    object \n",
      " 2   Gender             930 non-null    object \n",
      " 3   Edu_Level          930 non-null    object \n",
      " 4   Job_Category       930 non-null    object \n",
      " 5   Age                930 non-null    int64  \n",
      " 6   Score              930 non-null    float64\n",
      " 7   Phone_Number       930 non-null    int64  \n",
      " 8   Domicile_Province  930 non-null    object \n",
      "dtypes: float64(1), int64(3), object(5)\n",
      "memory usage: 65.5+ KB\n"
     ]
    }
   ],
   "source": [
    "data.info()"
   ]
  },
  {
   "cell_type": "code",
   "execution_count": 36,
   "id": "f074cea5",
   "metadata": {},
   "outputs": [],
   "source": [
    "data.to_excel(\"D:\\Kerja\\Dattabot\\dataset_clean.xlsx\")"
   ]
  },
  {
   "cell_type": "code",
   "execution_count": null,
   "id": "7279e274",
   "metadata": {},
   "outputs": [],
   "source": []
  }
 ],
 "metadata": {
  "kernelspec": {
   "display_name": "Python 3 (ipykernel)",
   "language": "python",
   "name": "python3"
  },
  "language_info": {
   "codemirror_mode": {
    "name": "ipython",
    "version": 3
   },
   "file_extension": ".py",
   "mimetype": "text/x-python",
   "name": "python",
   "nbconvert_exporter": "python",
   "pygments_lexer": "ipython3",
   "version": "3.9.0"
  }
 },
 "nbformat": 4,
 "nbformat_minor": 5
}
